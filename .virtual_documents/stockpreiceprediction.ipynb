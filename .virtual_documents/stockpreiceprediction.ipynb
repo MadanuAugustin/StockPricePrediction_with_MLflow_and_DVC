





import pandas as pd
import yfinance as yf
import datetime
from datetime import date, timedelta
import plotly.graph_objects as go
import warnings
warnings.filterwarnings('ignore')
import matplotlib.pyplot as plt
import seaborn as sns





today = date.today()


today





d1 = today.strftime('%Y-%m-%d')


d1


end_date = d1


d2 = date.today() - timedelta(days = 5000)


d2 = d2.strftime('%Y-%m-%d')


d2


start_date = d2


start_date





data = yf.download('AAPL', start = start_date, end = end_date, progress = False)


data.head()


data['Date_col'] = data.index


data.head()


data = data[["Date_col", "Open", "High", "Low", "Close", "Adj Close", "Volume"]]


data.head()


data.reset_index(drop = True, inplace = True)


data.head()








figure = go.Figure(data = [go.Candlestick(x = data['Date_col'], open = data['Open'], high = data['High'], low = data["Low"], close = data['Close'])])

figure.update_layout(title = 'Apple stock Price Analysis', xaxis_rangeslider_visible = False)

figure.show()





plt.figure(figsize = (15, 5))
plt.title('Date Vs High')
plt.plot(data['Date_col'], data['High'])
plt.show()





plt.figure(figsize = (15, 5))
plt.title('Date Vs Open')
plt.plot(data['Date_col'], data['Open'])
plt.show()





plt.figure(figsize = (15, 5))
plt.title('Date Vs Low')
plt.plot(data['Date_col'], data['Low'])
plt.show()





plt.figure(figsize = (15, 5))
plt.title('Date Vs Close')
plt.plot(data['Date_col'], data['Close'])
plt.show()





plt.figure(figsize = (15, 5))
plt.title('Date Vs Volume')
plt.plot(data['Date_col'], data['Volume'])
plt.show()








correlation = data.corr()
print(correlation['Close'].sort_values(ascending = False))





sns.heatmap(data = data.corr())














X = data[["Open", "High", "Low", "Volume"]]

y = data[['Close']]





from sklearn.model_selection import train_test_split


X_train, X_test, y_train, y_test = train_test_split(X, y, test_size = 0.2, random_state = 42)


X_train.shape, X_test.shape, y_train.shape, y_test.shape





from keras.models import Sequential
from keras.layers import Dense, LSTM


model = Sequential()
model.add(LSTM(128, return_sequences = True, input_shape = (X_train.shape[1], 1)))
model.add(LSTM(64, return_sequences = False))
model.add(Dense(25))
model.add(Dense(1))
model.summary()


import keras


model.compile(optimizer = 'adam', loss = 'mean_squared_error', metrics = ['accuracy'])


checkpoint_filepath = 'models/checkpoint.model.keras'


model_checkpoint_callback = keras.callbacks.ModelCheckpoint(
    filepath=checkpoint_filepath,
    monitor='val_accuracy',
    mode='auto',
    save_best_only=True)


history = model.fit(X_train, y_train, batch_size = 1, epochs = 30, callbacks = [model_checkpoint_callback], validation_data = [X_test])





import matplotlib.pyplot as plt





pred = model.predict(X_test)


#pred


plt.plot(history.history['loss'])
plt.plot(history.history['val_loss'])
plt.title('model accuracy')
plt.ylabel('loss')
plt.xlabel('epoch')
plt.legend(['train', 'loss'], loc='upper left')
plt.show()



